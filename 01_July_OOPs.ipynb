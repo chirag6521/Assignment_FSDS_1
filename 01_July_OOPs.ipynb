{
 "cells": [
  {
   "cell_type": "markdown",
   "id": "6bc0c709",
   "metadata": {},
   "source": [
    "Ans.1"
   ]
  },
  {
   "cell_type": "markdown",
   "id": "60f85caa",
   "metadata": {},
   "source": [
    "The primary goal of OOPs is to model real-world entities using objects each containing data and behavior. OOPs promotes modularity through encapsulation, where data is hidden and accessed through methods. Inheritance enables code reuse, while polymorphism allows different objects to be treated uniformly. This paradigm enhances code organization, reusability, and adaptability."
   ]
  },
  {
   "cell_type": "markdown",
   "id": "f4df7414",
   "metadata": {},
   "source": [
    "Ans.2"
   ]
  },
  {
   "cell_type": "markdown",
   "id": "8dd1ba17",
   "metadata": {},
   "source": [
    "An object is a fundamental element representing a real world entity or concept. It bundles together both data and the functions that operate on that data, encapsulating them within a single unit. Objects are instances of classes which serve as blueprints defining their structure and behavior. Through classes and objects, Python implements the principles of OOPs for organized and modular code."
   ]
  },
  {
   "cell_type": "markdown",
   "id": "f6c18aa1",
   "metadata": {},
   "source": [
    "Ans.3"
   ]
  },
  {
   "cell_type": "markdown",
   "id": "e7d8a088",
   "metadata": {},
   "source": [
    "A class is a blueprint for creating objects that encapsulate data (attributes) and behavior (methods) related to a specific entity or concept. It defines the structure and behavior that instances of the class will have allowing for code organization and modularity through OOPs."
   ]
  },
  {
   "cell_type": "markdown",
   "id": "40e818cb",
   "metadata": {},
   "source": [
    "Ans4."
   ]
  },
  {
   "cell_type": "markdown",
   "id": "edf0615b",
   "metadata": {},
   "source": [
    "* Attributes in a class are variables that store data or information about the class instance. They define the properties or characteristics of an object.\n",
    "\n",
    "* Methods in a class are functions that perform actions or operations on the class's data. They define the behavior or actions that the class instance can undertake.Together attributes and methods encapsulate the state and behavior of objects within a class, following the principles of Object Oriented Programming."
   ]
  },
  {
   "cell_type": "markdown",
   "id": "effba85d",
   "metadata": {},
   "source": [
    "Ans.5"
   ]
  },
  {
   "cell_type": "markdown",
   "id": "50feda3f",
   "metadata": {},
   "source": [
    "* Class variables in Python are shared among all instances of a class holding data common to all instances. They are defined within the class and are accessible using the class name.\n",
    "* Instance variables are unique to each instance of a class holding specific data for that instance. They are defined within methods using the `self` keyword and vary from instance to instance."
   ]
  },
  {
   "cell_type": "markdown",
   "id": "d098e96a",
   "metadata": {},
   "source": [
    "Ans.6"
   ]
  },
  {
   "cell_type": "markdown",
   "id": "ebbdc688",
   "metadata": {},
   "source": [
    "In Python class methods the `self` parameter refers to the instance of the class itself. It allows methods to access and manipulate the instance's attributes and methods. By using `self`, methods can distinguish between instance-specific data and class-level data enabling effective object oriented programming."
   ]
  },
  {
   "cell_type": "markdown",
   "id": "ce8533e6",
   "metadata": {},
   "source": [
    "Ans.7"
   ]
  },
  {
   "cell_type": "code",
   "execution_count": 1,
   "id": "bcaae6e5",
   "metadata": {},
   "outputs": [
    {
     "name": "stdout",
     "output_type": "stream",
     "text": [
      "checked out 'Aunt Jennifer's Tigers'. 7 copies available.\n",
      "Title: Aunt Jennifer's Tigers\n",
      "Author: Adrienne Rich\n",
      "IsBN: 112-36-065465-0\n",
      "Publication Year: 1899\n",
      "Available Copies: 7\n",
      "returNed 'Aunt Jennifer's Tigers'. 8 copies available.\n",
      "Title: Aunt Jennifer's Tigers\n",
      "Author: Adrienne Rich\n",
      "IsBN: 112-36-065465-0\n",
      "Publication Year: 1899\n",
      "Available Copies: 8\n"
     ]
    }
   ],
   "source": [
    "class Book:\n",
    "    def __init__(self,title,author,isbn,publication_year,available_copies):\n",
    "        self.title=title\n",
    "        self.author=author\n",
    "        self.isbn=isbn\n",
    "        self.publication_year=publication_year\n",
    "        self.available_copies=available_copies\n",
    "        \n",
    "    def check_out(self):\n",
    "        if self.available_copies>0:\n",
    "            self.available_copies-=1\n",
    "            print(f\"checked out '{self.title}'. {self.available_copies} copies available.\")\n",
    "            \n",
    "    def return_book(self):\n",
    "        self.available_copies+=1\n",
    "        print(f\"returNed '{self.title}'. {self.available_copies} copies available.\")\n",
    "        \n",
    "    def display_book_info(self):\n",
    "        print(f\"Title: {self.title}\")\n",
    "        print(f\"Author: {self.author}\")\n",
    "        print(f\"IsBN: {self.isbn}\")\n",
    "        print(f\"Publication Year: {self.publication_year}\")\n",
    "        print(f\"Available Copies: {self.available_copies}\")\n",
    "        \n",
    "book = Book(\"Aunt Jennifer's Tigers\", \"Adrienne Rich\", \"112-36-065465-0\", 1899, 8)\n",
    "book.check_out()\n",
    "book.display_book_info()\n",
    "book.return_book()\n",
    "book.display_book_info()"
   ]
  },
  {
   "cell_type": "markdown",
   "id": "7acb5aac",
   "metadata": {},
   "source": [
    "Ans.8"
   ]
  },
  {
   "cell_type": "code",
   "execution_count": 32,
   "id": "f1836d35",
   "metadata": {},
   "outputs": [
    {
     "name": "stdout",
     "output_type": "stream",
     "text": [
      "Ticket BQE8 reserved for Concert.\n",
      "**********************************************\n",
      "Ticket ID: BQE8\n",
      "Event: Concert\n",
      "Date: Concert\n",
      "Venue: Goa\n",
      "Seat Number: 325D\n",
      "Price: ₹8000.00\n",
      "Reservation Status: Enjoy Reserved\n",
      "**********************************************\n",
      "canceled the reservation for ticket BQE8.\n",
      "**********************************************\n"
     ]
    }
   ],
   "source": [
    "class Ticket:\n",
    "    def __init__(self,ticket_id,event_name,event_date,venue,seat_number,price,is_reserved):\n",
    "        self.ticket_id=ticket_id\n",
    "        self.event_name=event_name\n",
    "        self.event_date=event_name\n",
    "        self.venue=venue\n",
    "        self.seat_number=seat_number\n",
    "        self.price=price\n",
    "        self.is_reserved=False\n",
    "        \n",
    "    def reserve_ticket(self):\n",
    "        if not self.is_reserved:\n",
    "            self.is_reserved = True\n",
    "            print(f\"Ticket {self.ticket_id} reserved for {self.event_name}.\")\n",
    "        else:\n",
    "            print(f\"Ticket {self.ticket_id} is already reserved.\")\n",
    "    \n",
    "    def cancel_reservation(self):\n",
    "        if self.is_reserved:\n",
    "            self.is_reserved = False\n",
    "            print(f\"canceled the reservation for ticket {self.ticket_id}.\")\n",
    "        else:\n",
    "            print(f\"Ticket {self.ticket_id} is not reserved.\")\n",
    "         \n",
    "        print(\"**********************************************\")\n",
    "    \n",
    "    \n",
    "    def display_ticket_info(self):\n",
    "        print(f\"Ticket ID: {self.ticket_id}\")\n",
    "        print(f\"Event: {self.event_name}\")\n",
    "        print(f\"Date: {self.event_date}\")\n",
    "        print(f\"Venue: {self.venue}\")\n",
    "        print(f\"Seat Number: {self.seat_number}\")\n",
    "        print(f\"Price: ₹{self.price:.2f}\")\n",
    "        reservation_status = \"Enjoy Reserved\" if self.is_reserved else \"Sorry Not Reserved\"\n",
    "        print(f\"Reservation Status: {reservation_status}\")\n",
    "\n",
    "ticket = Ticket(\"BQE8\", \"Concert\", \"2023-09-02\", \"Goa\", \"325D\", 8000.00,False)\n",
    "ticket.reserve_ticket()\n",
    "print(\"**********************************************\")\n",
    "ticket.display_ticket_info()\n",
    "print(\"**********************************************\")\n",
    "ticket.cancel_reservation()"
   ]
  },
  {
   "cell_type": "markdown",
   "id": "afd0a89a",
   "metadata": {},
   "source": [
    "Ans.9"
   ]
  },
  {
   "cell_type": "code",
   "execution_count": 50,
   "id": "e546c982",
   "metadata": {},
   "outputs": [
    {
     "name": "stdout",
     "output_type": "stream",
     "text": [
      "^^^^^^^^^^^^^^^^^^^^^^^^^^^^^^^^^^^^^^^^^^\n",
      "Added this'Hoddie' in the shopping cart.\n",
      "Added this'Watch' in the shopping cart.\n",
      "-----------------------------------------\n",
      "Items in the shopping cart:\n",
      "Hoddie\n",
      "Watch\n",
      "-----------------------------------------\n",
      "Ok Removed 'Watch' from the shopping cart.\n",
      "-----------------------------------------\n",
      "Items in the shopping cart:\n",
      "Hoddie\n",
      "-----------------------------------------\n",
      "Shopping cart cleared.\n",
      "The shopping cart is still empty.\n"
     ]
    }
   ],
   "source": [
    "class ShoppingCart:\n",
    "    def __init__(self,items):\n",
    "        self.items=[]\n",
    "    \n",
    "    def add_item(self, item):\n",
    "        self.items.append(item)\n",
    "        print(f\"Added this'{item}' in the shopping cart.\")\n",
    "    \n",
    "    def remove_item(self, item):\n",
    "        if item in self.items:\n",
    "            self.items.remove(item)\n",
    "            print(f\"Ok Removed '{item}' from the shopping cart.\")\n",
    "        else:\n",
    "            print(f\"'Sorry, This {item}' is not in the shopping cart.\")\n",
    "    \n",
    "    def view_cart(self):\n",
    "        if self.items:\n",
    "            print(\"Items in the shopping cart:\")\n",
    "            for item in self.items:\n",
    "                print(item)\n",
    "        else:\n",
    "            print(\"The shopping cart is still empty.\")\n",
    "    \n",
    "    def clear_cart(self):\n",
    "        self.items = []\n",
    "        print(\"Shopping cart cleared.\")\n",
    "\n",
    "print(\"^^^^^^^^^^^^^^^^^^^^^^^^^^^^^^^^^^^^^^^^^^\")\n",
    "cart = ShoppingCart(\"items\")\n",
    "cart.add_item(\"Hoddie\")\n",
    "cart.add_item(\"Watch\")\n",
    "print('-----------------------------------------')\n",
    "cart.view_cart()\n",
    "print('-----------------------------------------')\n",
    "cart.remove_item(\"Watch\")\n",
    "print('-----------------------------------------')\n",
    "cart.view_cart()\n",
    "print('-----------------------------------------')\n",
    "cart.clear_cart()\n",
    "cart.view_cart()"
   ]
  },
  {
   "cell_type": "markdown",
   "id": "95de63fd",
   "metadata": {},
   "source": [
    "Ans.10"
   ]
  },
  {
   "cell_type": "code",
   "execution_count": 71,
   "id": "8577d788",
   "metadata": {},
   "outputs": [
    {
     "name": "stdout",
     "output_type": "stream",
     "text": [
      "Attendance: {'2023-06-05': 'present', '2023-06-06': 'absent', '2023-06-07': 'present'}\n",
      "-----------------------------------------\n",
      "Average Attendance: 66.66666666666666\n"
     ]
    }
   ],
   "source": [
    "class Student:\n",
    "    def __init__(self, name, age, grade, student_id):\n",
    "        self.name = name\n",
    "        self.age = age\n",
    "        self.grade = grade\n",
    "        self.student_id = student_id\n",
    "        self.attendance = {}\n",
    "    \n",
    "    def update_attendance(self, date, status):\n",
    "        self.attendance[date] = status\n",
    "    \n",
    "    def get_attendance(self):\n",
    "        return self.attendance\n",
    "    \n",
    "    def get_average_attendance(self):\n",
    "        total_days = len(self.attendance)\n",
    "        if total_days == 0:\n",
    "            return 0\n",
    "        present_days = sum(status == 'present' for status in self.attendance.values())\n",
    "        average_attendance = (present_days / total_days) * 100\n",
    "        return average_attendance\n",
    "\n",
    "student=Student(\"Joey\", 13, \"9th\", \"D88\")\n",
    "student.update_attendance(\"2023-06-05\", \"present\")\n",
    "student.update_attendance(\"2023-06-06\", \"absent\")\n",
    "student.update_attendance(\"2023-06-07\", \"present\")\n",
    "print(\"Attendance:\", student.get_attendance())\n",
    "\n",
    "print(\"-----------------------------------------\")\n",
    "\n",
    "print(\"Average Attendance:\", student1.get_average_attendance())"
   ]
  }
 ],
 "metadata": {
  "kernelspec": {
   "display_name": "Python 3 (ipykernel)",
   "language": "python",
   "name": "python3"
  },
  "language_info": {
   "codemirror_mode": {
    "name": "ipython",
    "version": 3
   },
   "file_extension": ".py",
   "mimetype": "text/x-python",
   "name": "python",
   "nbconvert_exporter": "python",
   "pygments_lexer": "ipython3",
   "version": "3.9.13"
  }
 },
 "nbformat": 4,
 "nbformat_minor": 5
}
