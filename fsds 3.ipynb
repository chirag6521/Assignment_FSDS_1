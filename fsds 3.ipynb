{
 "cells": [
  {
   "cell_type": "code",
   "execution_count": null,
   "id": "84d2a0a5",
   "metadata": {},
   "outputs": [],
   "source": [
    "#Ans.1\n",
    "## Function enables reusability and reduces redundancy the code makes a code modular."
   ]
  },
  {
   "cell_type": "code",
   "execution_count": null,
   "id": "be66f0cb",
   "metadata": {},
   "outputs": [],
   "source": [
    "#Ans.2\n",
    "## It runs the code when the finction is called to run."
   ]
  },
  {
   "cell_type": "code",
   "execution_count": 63,
   "id": "e6a83dc7",
   "metadata": {},
   "outputs": [],
   "source": [
    "#Ans.3\n",
    "## def statment creates a function.\n",
    "\n",
    "def fsds_fuction():\n",
    "    pass\n"
   ]
  },
  {
   "cell_type": "code",
   "execution_count": 66,
   "id": "28050e07",
   "metadata": {},
   "outputs": [],
   "source": [
    "#Ans.4\n",
    "fsds_fuction=(1,2,3)\n",
    "def fsds_fuction():\n",
    "    pass\n",
    "fsds_fuction() ## calling a function"
   ]
  },
  {
   "cell_type": "code",
   "execution_count": null,
   "id": "5ad5b8b0",
   "metadata": {},
   "outputs": [],
   "source": [
    "#Ans.5\n",
    "## There is only one global scope any variable , functon , classes, module belong to the global scope.\n",
    "### In python local scopes are created whenever a function is called and each function call creates a new local scope."
   ]
  },
  {
   "cell_type": "code",
   "execution_count": null,
   "id": "ecb8c349",
   "metadata": {},
   "outputs": [],
   "source": [
    "#Ans.6\n",
    "## When the funciton call return the local vaariable get delaetd ."
   ]
  },
  {
   "cell_type": "code",
   "execution_count": null,
   "id": "b28e8f40",
   "metadata": {},
   "outputs": [],
   "source": [
    "#Ans.7\n",
    "## The consept of a retun value is that a function return to a function when we have ec=xecuted the task .PYthon function will always have return value"
   ]
  },
  {
   "cell_type": "code",
   "execution_count": null,
   "id": "1f39662f",
   "metadata": {},
   "outputs": [],
   "source": [
    "#Ans.7 \n",
    "## If the funtion does not have a return statement it will not excute anything in areturn function ."
   ]
  },
  {
   "cell_type": "code",
   "execution_count": null,
   "id": "c17875c3",
   "metadata": {},
   "outputs": [],
   "source": [
    "#Ans.8 \n",
    "## For dong that we can use the global keyword (global)."
   ]
  },
  {
   "cell_type": "code",
   "execution_count": 68,
   "id": "cb29a514",
   "metadata": {},
   "outputs": [
    {
     "name": "stdout",
     "output_type": "stream",
     "text": [
      "<class 'NoneType'>\n"
     ]
    }
   ],
   "source": [
    "#Ans.9\n",
    "## It is NONE type\n",
    "\n",
    "a = None\n",
    "print(type(a))\n"
   ]
  },
  {
   "cell_type": "code",
   "execution_count": null,
   "id": "bee5d2a7",
   "metadata": {},
   "outputs": [],
   "source": [
    "#Ans.10\n",
    "## This areallyourpetsnamederic does't exist inn python ig we code ths we will get \"ModuleNotFoundError\""
   ]
  },
  {
   "cell_type": "code",
   "execution_count": null,
   "id": "386ddc5e",
   "metadata": {},
   "outputs": [],
   "source": [
    "#Ans.11\n",
    "## We will import module name \"spam.bacon()\""
   ]
  },
  {
   "cell_type": "code",
   "execution_count": null,
   "id": "5c586c93",
   "metadata": {},
   "outputs": [],
   "source": [
    "#Ans.12\n",
    "\"\"\"\"\n",
    "We can use \n",
    "try:\n",
    "\n",
    "except ______:\n",
    "\n",
    "to save a programme from crashing \n",
    "\"\"\"\""
   ]
  },
  {
   "cell_type": "code",
   "execution_count": null,
   "id": "c3e2cb0e",
   "metadata": {},
   "outputs": [],
   "source": [
    "#Ans.13\n",
    "## TRy and error helps the codes to settle the errors.The purpose of the try clause is to enclose code where exceptions may occur the purpose of the except clause is to handle specific exceptions that occur within the try block."
   ]
  }
 ],
 "metadata": {
  "kernelspec": {
   "display_name": "Python 3 (ipykernel)",
   "language": "python",
   "name": "python3"
  },
  "language_info": {
   "codemirror_mode": {
    "name": "ipython",
    "version": 3
   },
   "file_extension": ".py",
   "mimetype": "text/x-python",
   "name": "python",
   "nbconvert_exporter": "python",
   "pygments_lexer": "ipython3",
   "version": "3.9.13"
  }
 },
 "nbformat": 4,
 "nbformat_minor": 5
}
