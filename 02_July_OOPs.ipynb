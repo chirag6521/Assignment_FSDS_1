{
 "cells": [
  {
   "cell_type": "markdown",
   "id": "2226fb48",
   "metadata": {},
   "source": [
    "Ans.1"
   ]
  },
  {
   "cell_type": "markdown",
   "id": "34f1aaab",
   "metadata": {},
   "source": [
    "Inheritance is a principle in object-oriented programming where a new class (subclass) can inherit properties and behaviors from an existing class (superclass). It promotes code reuse enables hierarchical relationships and models is a relationships among classes."
   ]
  },
  {
   "cell_type": "markdown",
   "id": "4af815ff",
   "metadata": {},
   "source": [
    "Ans.2"
   ]
  },
  {
   "cell_type": "markdown",
   "id": "b1aa86ca",
   "metadata": {},
   "source": [
    "Single Inheritance involves a class inheriting from a single parent class, resulting in a straightforward hierarchy but restricted code sharing.Multiple Inheritance enables a class to inherit from multiple parent classes, facilitating extensive code reuse but potentially introducing complexity and conflicts when inherited features clash. The choice depends on balancing hierarchy simplicity, code reusability, and the design's intricacy."
   ]
  },
  {
   "cell_type": "markdown",
   "id": "16234c96",
   "metadata": {},
   "source": [
    "Ans.3"
   ]
  },
  {
   "cell_type": "markdown",
   "id": "b8e1b1e4",
   "metadata": {},
   "source": [
    "A base class (also called superclass or parent class) is the class from which attributes and methods are inherited. A derived class (also called subclass or child class) is a class that inherits from the base class gaining the properties and behaviors of the base class. The derived class can extend or modify these inherited attributes and methods to meet its specific requirements."
   ]
  },
  {
   "cell_type": "markdown",
   "id": "5fcfc3d2",
   "metadata": {},
   "source": [
    "Ans4."
   ]
  },
  {
   "cell_type": "markdown",
   "id": "20c2964f",
   "metadata": {},
   "source": [
    "The protected access modifier in inheritance allows attributes and methods to be accessed within the defining class and its subclasses. It provides a balance between encapsulation and inheritance allowing subclasses to use inherited members while restricting direct access from outside the class hierarchy. Unlike private (accessible only within the defining class) and public (accessible from anywhere) modifiers, protected grants access to subclasses but not to external code."
   ]
  },
  {
   "cell_type": "markdown",
   "id": "6bd5a6e5",
   "metadata": {},
   "source": [
    "Ans.5"
   ]
  },
  {
   "cell_type": "markdown",
   "id": "6eeca0e0",
   "metadata": {},
   "source": [
    "The super keyword in inheritance is used to call methods or access attributes from the parent class. It allows a derived cla\n",
    "ss to invoke the superclass's methods and constructors facilitating code reuse and extension."
   ]
  },
  {
   "cell_type": "code",
   "execution_count": 72,
   "id": "40f13193",
   "metadata": {},
   "outputs": [
    {
     "name": "stdout",
     "output_type": "stream",
     "text": [
      "10\n",
      "20\n"
     ]
    }
   ],
   "source": [
    "class Parent:\n",
    "    def __init__(self, value):\n",
    "        self.value = value\n",
    "\n",
    "class Child(Parent):\n",
    "    def __init__(self, value, child_value):\n",
    "        super().__init__(value) \n",
    "        self.child_value = child_value\n",
    "\n",
    "child_instance = Child(10, 20)\n",
    "print(child_instance.value)\n",
    "print(child_instance.child_value)\n"
   ]
  },
  {
   "cell_type": "markdown",
   "id": "d1becb8d",
   "metadata": {},
   "source": [
    "Ans.6"
   ]
  },
  {
   "cell_type": "code",
   "execution_count": 73,
   "id": "381d3525",
   "metadata": {},
   "outputs": [
    {
     "name": "stdout",
     "output_type": "stream",
     "text": [
      "Make: BMW\n",
      "Model: I7\n",
      "Year: 2023\n",
      "Fuel Type: Gasoline\n"
     ]
    }
   ],
   "source": [
    "class Vehicle:\n",
    "    def __init__(self, make, model, year):\n",
    "        self.make = make\n",
    "        self.model = model\n",
    "        self.year = year\n",
    "    \n",
    "    def info(self):\n",
    "        print(f\"Make: {self.make}\")\n",
    "        print(f\"Model: {self.model}\")\n",
    "        print(f\"Year: {self.year}\")\n",
    "\n",
    "class Car(Vehicle):\n",
    "    def __init__(self, make, model, year, fuel_type):\n",
    "        super().__init__(make, model, year)\n",
    "        self.fuel_type = fuel_type\n",
    "    \n",
    "    def info(self): \n",
    "        super().info()\n",
    "        print(f\"Fuel Type: {self.fuel_type}\")\n",
    "\n",
    "car= Car(\"BMW\", \"I7\", 2023, \"Gasoline\")\n",
    "car.info()\n"
   ]
  },
  {
   "cell_type": "markdown",
   "id": "0aebd1f6",
   "metadata": {},
   "source": [
    "Ans.7"
   ]
  },
  {
   "cell_type": "code",
   "execution_count": 78,
   "id": "a7a830ff",
   "metadata": {},
   "outputs": [
    {
     "name": "stdout",
     "output_type": "stream",
     "text": [
      "Name: Jake\n",
      "Salary: 20000\n",
      "Department: Sales\n",
      "--------------------\n",
      "Name: David\n",
      "Salary: 71000\n",
      "Programming Language: Python\n"
     ]
    }
   ],
   "source": [
    "class Employee:\n",
    "    def __init__(self,name,salary):\n",
    "        self.name=name\n",
    "        self.salary=salary\n",
    "    \n",
    "    def details(self):\n",
    "        print(f\"Name: {self.name}\")\n",
    "        print(f\"Salary: {self.salary}\")\n",
    "\n",
    "class Manager(Employee):\n",
    "    def __init__(self, name, salary, department):\n",
    "        super().__init__(name, salary)\n",
    "        self.department = department\n",
    "    \n",
    "    def details(self):\n",
    "        super().details()\n",
    "        print(f\"Department: {self.department}\")\n",
    "\n",
    "class Developer(Employee):\n",
    "    def __init__(self, name, salary, programming_language):\n",
    "        super().__init__(name, salary)\n",
    "        self.programming_language = programming_language\n",
    "    \n",
    "    def details(self):\n",
    "        super().details()\n",
    "        print(f\"Programming Language: {self.programming_language}\")\n",
    "\n",
    "manager = Manager(\"Jake\", 20000, \"Sales\")\n",
    "developer = Developer(\"David\", 71000, \"Python\")\n",
    "manager.details()\n",
    "print(\"--------------------\")\n",
    "developer.details()"
   ]
  },
  {
   "cell_type": "markdown",
   "id": "4b309cd3",
   "metadata": {},
   "source": [
    "Ans.8"
   ]
  },
  {
   "cell_type": "code",
   "execution_count": 84,
   "id": "4bf90dc8",
   "metadata": {},
   "outputs": [
    {
     "name": "stdout",
     "output_type": "stream",
     "text": [
      "Colour:black\n",
      "Border Width: 1\n",
      "Length:5\n",
      "Width:8\n",
      "------------\n",
      "Colour:Yellow\n",
      "Border Width: 8\n",
      "Radius:6\n"
     ]
    }
   ],
   "source": [
    "class shape:\n",
    "    def __init__(self,colour,border_width):\n",
    "        self.colour=colour\n",
    "        self.border_width=border_width\n",
    "        \n",
    "    def display_info(self):\n",
    "        print(f\"Colour:{self.colour}\")\n",
    "        print(f\"Border Width: {self.border_width}\")\n",
    "        \n",
    "class Rectangle(shape):\n",
    "    def __init__(self,colour,border_width,length,width):\n",
    "        super().__init__(colour,border_width)\n",
    "        self.length=length\n",
    "        self.width=width\n",
    "        \n",
    "    def display_info(self):\n",
    "        super().display_info()\n",
    "        print(F\"Length:{self.length}\")\n",
    "        print(f\"Width:{self.width}\")\n",
    "\n",
    "class Circle(shape):\n",
    "    def __init__(self,colour,border_width,radius):\n",
    "        super().__init__(colour,border_width)\n",
    "        self.radius=radius\n",
    "        \n",
    "    def display_info(self):\n",
    "        super().display_info()\n",
    "        print(f\"Radius:{self.radius}\")\n",
    "\n",
    "rectangle=Rectangle(\"black\",1,5,8)\n",
    "circle=Circle(\"Yellow\",8,6)\n",
    "rectangle.display_info()\n",
    "print('------------')\n",
    "circle.display_info()"
   ]
  },
  {
   "cell_type": "markdown",
   "id": "efcb306e",
   "metadata": {},
   "source": [
    "Ans.9"
   ]
  },
  {
   "cell_type": "code",
   "execution_count": 94,
   "id": "4628a387",
   "metadata": {},
   "outputs": [
    {
     "name": "stdout",
     "output_type": "stream",
     "text": [
      "Screen_size:7.2 inches\n",
      "-----------------\n",
      "Battery:5000mAh\n"
     ]
    }
   ],
   "source": [
    "class Device:\n",
    "    def __init__(self,brand,model):\n",
    "        self.brand=brand\n",
    "        self.model=model\n",
    "        \n",
    "    def display_info(self):\n",
    "        print(f\"Brand:{self.brand}\")\n",
    "        print(f\"Model:{self.model}\")\n",
    "        \n",
    "class Phone(Device):\n",
    "    def __init__(self,brand,model,screen_size):\n",
    "        super().__init__(brand,model)\n",
    "        self.screen_size=screen_size\n",
    "    \n",
    "    def display_info(self):\n",
    "        print(f\"Screen_size:{self.screen_size}\")\n",
    "    \n",
    "class Table(Device):\n",
    "    def __init__(self,brand,model,battery):\n",
    "        super().__init__(brand,model)\n",
    "        self.battery=battery\n",
    "        \n",
    "    def display_info(self):\n",
    "        print(f\"Battery:{self.battery}\")\n",
    "        \n",
    "phone=Phone(\"OnePlus\",\"8T\",\"7.2 inches\")\n",
    "tablet=Table(\"Apple\",\"11Pro\",\"5000mAh\")\n",
    "phone.display_info()\n",
    "print(\"-----------------\")\n",
    "tablet.display_info()\n"
   ]
  },
  {
   "cell_type": "markdown",
   "id": "3503a077",
   "metadata": {},
   "source": [
    "Ans.10"
   ]
  },
  {
   "cell_type": "code",
   "execution_count": 100,
   "id": "d2046be5",
   "metadata": {},
   "outputs": [
    {
     "name": "stdout",
     "output_type": "stream",
     "text": [
      "Account_Number:kotak7989867787\n",
      "Balance:101000.00\n",
      "----------------------\n",
      "Account_Number:Axis68458465845\n",
      "Balance:5000.00\n",
      "Interest earned: ₹5050.00\n",
      "----------------------\n",
      "Account_Number:Axis68458465845\n",
      "Balance:4990.00\n"
     ]
    }
   ],
   "source": [
    "class Bank_Account():\n",
    "    def __init__(self,account_number,balance):\n",
    "        self.account_number=account_number\n",
    "        self.balance=balance\n",
    "        \n",
    "    def display_info(self):\n",
    "        print(f\"Account_Number:{self.account_number}\")\n",
    "        print(f\"Balance:{self.balance:.2f}\")\n",
    "        \n",
    "class SavingsAccount(Bank_Account):\n",
    "    def calculate_interest(self):\n",
    "        interest_rate=0.05\n",
    "        interest=self.balance*interest_rate\n",
    "        return interest\n",
    "    \n",
    "class CheckingAccount(Bank_Account):\n",
    "    def deduct_fees(self):\n",
    "        fee=10\n",
    "        self.balance-=fee\n",
    "        \n",
    "savings = SavingsAccount(\"kotak7989867787\",101000)\n",
    "checking = CheckingAccount(\"Axis68458465845\",5000)\n",
    "savings.display_info()\n",
    "print(\"----------------------\")\n",
    "checking.display_info()\n",
    "interest=savings.calculate_interest()\n",
    "print(f\"Interest earned: ₹{interest:.2f}\")\n",
    "print(\"----------------------\")\n",
    "checking.deduct_fees()\n",
    "checking.display_info()"
   ]
  },
  {
   "cell_type": "code",
   "execution_count": null,
   "id": "92be943c",
   "metadata": {},
   "outputs": [],
   "source": []
  }
 ],
 "metadata": {
  "kernelspec": {
   "display_name": "Python 3 (ipykernel)",
   "language": "python",
   "name": "python3"
  },
  "language_info": {
   "codemirror_mode": {
    "name": "ipython",
    "version": 3
   },
   "file_extension": ".py",
   "mimetype": "text/x-python",
   "name": "python",
   "nbconvert_exporter": "python",
   "pygments_lexer": "ipython3",
   "version": "3.9.13"
  }
 },
 "nbformat": 4,
 "nbformat_minor": 5
}
